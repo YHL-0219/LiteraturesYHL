{
 "cells": [
  {
   "cell_type": "markdown",
   "metadata": {},
   "source": [
    "<h3>可用于产品的线性回归算法建流程</h3>\n",
    "<h4>数据准备阶段</h4>\n",
    "\n",
    "1.载入数据集\n",
    "\n",
    "2.数据预览\n",
    "\n",
    "3.获取特征数据和输出数据\n",
    "\n",
    "<h4>特征工程阶段</h4>\n",
    "\n",
    "4.缺失值处理，异常值处理，高级特征生成（若有）\n",
    "\n",
    "5.划分数据集为训练集和验证集\n",
    "\n",
    "6.训练集数据的标准化\n",
    "\n",
    "<h4>模型训练阶段</h4>\n",
    "\n",
    "7.使用不同的参数在训练集上训练出模型(使用训练集交叉验证是可选的)\n",
    "\n",
    "8.观察训练集的MSE和RMSE\n",
    "\n",
    "<h4>模型验证阶段</h4>\n",
    "\n",
    "9.验证集数据的标准化\n",
    "\n",
    "10.使用训练出的模型在验证集上做预测，并观察验证集的MSE和RMSE\n",
    "\n",
    "11.画图观察(可选)\n",
    "\n",
    "12.重复步骤7-11，选择验证集上MSE或RMSE最小的模型作为模型输出\n",
    "\n",
    "<h4>算法上线阶段</h4>\n",
    "\n",
    "13.保存模型，加载模型做预测,共3种方法\n",
    "    * 使用python pickle API 保存\n",
    "    * 使用python 加载pickle文件预测\n",
    "    * 使用sklearn joblib API 保存\n",
    "    * 使用sklearn joblib API 加载sklearn模型预测\n",
    "    * 保存为PMML文件\n",
    "    * 使用PMML Java API加载模型预测\n",
    "\n",
    "<h5>by Pinard Liu @ 20190131</h5>"
   ]
  },
  {
   "cell_type": "markdown",
   "metadata": {},
   "source": [
    "<h1>1. 载入数据集</h1>"
   ]
  },
  {
   "cell_type": "code",
   "execution_count": 1,
   "metadata": {},
   "outputs": [],
   "source": [
    "#载入必要的库，matplotlib用于画图，numpy用于数组操作，pandans用于数据处理\n",
    "import matplotlib.pyplot as plt\n",
    "%matplotlib inline\n",
    "import numpy as np\n",
    "import pandas as pd"
   ]
  },
  {
   "cell_type": "code",
   "execution_count": 2,
   "metadata": {},
   "outputs": [],
   "source": [
    "# read_csv里面的参数是csv在你电脑上的路径，此处csv文件放在notebook运行目录下面的CCPP目录里\n",
    "data = pd.read_csv('.\\ccpp.csv')"
   ]
  },
  {
   "cell_type": "markdown",
   "metadata": {},
   "source": [
    "<h1>2. 数据预览</h1>"
   ]
  },
  {
   "cell_type": "code",
   "execution_count": 3,
   "metadata": {},
   "outputs": [
    {
     "data": {
      "text/html": [
       "<div>\n",
       "<style scoped>\n",
       "    .dataframe tbody tr th:only-of-type {\n",
       "        vertical-align: middle;\n",
       "    }\n",
       "\n",
       "    .dataframe tbody tr th {\n",
       "        vertical-align: top;\n",
       "    }\n",
       "\n",
       "    .dataframe thead th {\n",
       "        text-align: right;\n",
       "    }\n",
       "</style>\n",
       "<table border=\"1\" class=\"dataframe\">\n",
       "  <thead>\n",
       "    <tr style=\"text-align: right;\">\n",
       "      <th></th>\n",
       "      <th>AT</th>\n",
       "      <th>V</th>\n",
       "      <th>AP</th>\n",
       "      <th>RH</th>\n",
       "      <th>PE</th>\n",
       "    </tr>\n",
       "  </thead>\n",
       "  <tbody>\n",
       "    <tr>\n",
       "      <th>0</th>\n",
       "      <td>8.34</td>\n",
       "      <td>40.77</td>\n",
       "      <td>1010.84</td>\n",
       "      <td>90.01</td>\n",
       "      <td>480.48</td>\n",
       "    </tr>\n",
       "    <tr>\n",
       "      <th>1</th>\n",
       "      <td>23.64</td>\n",
       "      <td>58.49</td>\n",
       "      <td>1011.40</td>\n",
       "      <td>74.20</td>\n",
       "      <td>445.75</td>\n",
       "    </tr>\n",
       "    <tr>\n",
       "      <th>2</th>\n",
       "      <td>29.74</td>\n",
       "      <td>56.90</td>\n",
       "      <td>1007.15</td>\n",
       "      <td>41.91</td>\n",
       "      <td>438.76</td>\n",
       "    </tr>\n",
       "    <tr>\n",
       "      <th>3</th>\n",
       "      <td>19.07</td>\n",
       "      <td>49.69</td>\n",
       "      <td>1007.22</td>\n",
       "      <td>76.79</td>\n",
       "      <td>453.09</td>\n",
       "    </tr>\n",
       "    <tr>\n",
       "      <th>4</th>\n",
       "      <td>11.80</td>\n",
       "      <td>40.66</td>\n",
       "      <td>1017.13</td>\n",
       "      <td>97.20</td>\n",
       "      <td>464.43</td>\n",
       "    </tr>\n",
       "  </tbody>\n",
       "</table>\n",
       "</div>"
      ],
      "text/plain": [
       "      AT      V       AP     RH      PE\n",
       "0   8.34  40.77  1010.84  90.01  480.48\n",
       "1  23.64  58.49  1011.40  74.20  445.75\n",
       "2  29.74  56.90  1007.15  41.91  438.76\n",
       "3  19.07  49.69  1007.22  76.79  453.09\n",
       "4  11.80  40.66  1017.13  97.20  464.43"
      ]
     },
     "execution_count": 3,
     "metadata": {},
     "output_type": "execute_result"
    }
   ],
   "source": [
    "data.head()"
   ]
  },
  {
   "cell_type": "code",
   "execution_count": 4,
   "metadata": {},
   "outputs": [
    {
     "data": {
      "text/plain": [
       "(9568, 5)"
      ]
     },
     "execution_count": 4,
     "metadata": {},
     "output_type": "execute_result"
    }
   ],
   "source": [
    "data.shape"
   ]
  },
  {
   "cell_type": "markdown",
   "metadata": {},
   "source": [
    "<h1>3. 获取特征数据和输出数据</h1>"
   ]
  },
  {
   "cell_type": "code",
   "execution_count": 5,
   "metadata": {},
   "outputs": [
    {
     "data": {
      "text/html": [
       "<div>\n",
       "<style scoped>\n",
       "    .dataframe tbody tr th:only-of-type {\n",
       "        vertical-align: middle;\n",
       "    }\n",
       "\n",
       "    .dataframe tbody tr th {\n",
       "        vertical-align: top;\n",
       "    }\n",
       "\n",
       "    .dataframe thead th {\n",
       "        text-align: right;\n",
       "    }\n",
       "</style>\n",
       "<table border=\"1\" class=\"dataframe\">\n",
       "  <thead>\n",
       "    <tr style=\"text-align: right;\">\n",
       "      <th></th>\n",
       "      <th>AT</th>\n",
       "      <th>V</th>\n",
       "      <th>AP</th>\n",
       "      <th>RH</th>\n",
       "    </tr>\n",
       "  </thead>\n",
       "  <tbody>\n",
       "    <tr>\n",
       "      <th>0</th>\n",
       "      <td>8.34</td>\n",
       "      <td>40.77</td>\n",
       "      <td>1010.84</td>\n",
       "      <td>90.01</td>\n",
       "    </tr>\n",
       "    <tr>\n",
       "      <th>1</th>\n",
       "      <td>23.64</td>\n",
       "      <td>58.49</td>\n",
       "      <td>1011.40</td>\n",
       "      <td>74.20</td>\n",
       "    </tr>\n",
       "    <tr>\n",
       "      <th>2</th>\n",
       "      <td>29.74</td>\n",
       "      <td>56.90</td>\n",
       "      <td>1007.15</td>\n",
       "      <td>41.91</td>\n",
       "    </tr>\n",
       "    <tr>\n",
       "      <th>3</th>\n",
       "      <td>19.07</td>\n",
       "      <td>49.69</td>\n",
       "      <td>1007.22</td>\n",
       "      <td>76.79</td>\n",
       "    </tr>\n",
       "    <tr>\n",
       "      <th>4</th>\n",
       "      <td>11.80</td>\n",
       "      <td>40.66</td>\n",
       "      <td>1017.13</td>\n",
       "      <td>97.20</td>\n",
       "    </tr>\n",
       "  </tbody>\n",
       "</table>\n",
       "</div>"
      ],
      "text/plain": [
       "      AT      V       AP     RH\n",
       "0   8.34  40.77  1010.84  90.01\n",
       "1  23.64  58.49  1011.40  74.20\n",
       "2  29.74  56.90  1007.15  41.91\n",
       "3  19.07  49.69  1007.22  76.79\n",
       "4  11.80  40.66  1017.13  97.20"
      ]
     },
     "execution_count": 5,
     "metadata": {},
     "output_type": "execute_result"
    }
   ],
   "source": [
    "#获取特征数据\n",
    "X = data[['AT', 'V', 'AP', 'RH']]\n",
    "X.head()"
   ]
  },
  {
   "cell_type": "code",
   "execution_count": 6,
   "metadata": {},
   "outputs": [
    {
     "data": {
      "text/html": [
       "<div>\n",
       "<style scoped>\n",
       "    .dataframe tbody tr th:only-of-type {\n",
       "        vertical-align: middle;\n",
       "    }\n",
       "\n",
       "    .dataframe tbody tr th {\n",
       "        vertical-align: top;\n",
       "    }\n",
       "\n",
       "    .dataframe thead th {\n",
       "        text-align: right;\n",
       "    }\n",
       "</style>\n",
       "<table border=\"1\" class=\"dataframe\">\n",
       "  <thead>\n",
       "    <tr style=\"text-align: right;\">\n",
       "      <th></th>\n",
       "      <th>PE</th>\n",
       "    </tr>\n",
       "  </thead>\n",
       "  <tbody>\n",
       "    <tr>\n",
       "      <th>0</th>\n",
       "      <td>480.48</td>\n",
       "    </tr>\n",
       "    <tr>\n",
       "      <th>1</th>\n",
       "      <td>445.75</td>\n",
       "    </tr>\n",
       "    <tr>\n",
       "      <th>2</th>\n",
       "      <td>438.76</td>\n",
       "    </tr>\n",
       "    <tr>\n",
       "      <th>3</th>\n",
       "      <td>453.09</td>\n",
       "    </tr>\n",
       "    <tr>\n",
       "      <th>4</th>\n",
       "      <td>464.43</td>\n",
       "    </tr>\n",
       "  </tbody>\n",
       "</table>\n",
       "</div>"
      ],
      "text/plain": [
       "       PE\n",
       "0  480.48\n",
       "1  445.75\n",
       "2  438.76\n",
       "3  453.09\n",
       "4  464.43"
      ]
     },
     "execution_count": 6,
     "metadata": {},
     "output_type": "execute_result"
    }
   ],
   "source": [
    "#获取输出数据\n",
    "y = data[['PE']]\n",
    "y.head()"
   ]
  },
  {
   "cell_type": "markdown",
   "metadata": {},
   "source": [
    "<h1>4. 缺失值处理，异常值处理（若有）</h1>"
   ]
  },
  {
   "cell_type": "markdown",
   "metadata": {},
   "source": [
    "<h1>5. 划分数据集为训练集和验证集</h1>"
   ]
  },
  {
   "cell_type": "code",
   "execution_count": 7,
   "metadata": {},
   "outputs": [
    {
     "name": "stdout",
     "output_type": "stream",
     "text": [
      "(7176, 4)\n",
      "(7176, 1)\n",
      "(2392, 4)\n",
      "(2392, 1)\n"
     ]
    }
   ],
   "source": [
    "#将数据划分为训练集和验证集\n",
    "from sklearn.model_selection import train_test_split\n",
    "X_train, X_test, y_train, y_test = train_test_split(X, y, random_state=1)\n",
    "print (X_train.shape)\n",
    "print (y_train.shape)\n",
    "print (X_test.shape)\n",
    "print (y_test.shape)"
   ]
  },
  {
   "cell_type": "markdown",
   "metadata": {},
   "source": [
    "<h1>6. 训练集数据的标准化</h1>"
   ]
  },
  {
   "cell_type": "code",
   "execution_count": 8,
   "metadata": {},
   "outputs": [
    {
     "name": "stdout",
     "output_type": "stream",
     "text": [
      "AT      19.708303\n",
      "V       54.403151\n",
      "AP    1013.189242\n",
      "RH      73.220410\n",
      "dtype: float64\n"
     ]
    }
   ],
   "source": [
    "#对训练集数据特征进行归一化，保存均值向量和标准差向量\n",
    "norm_data_mean = X_train.mean()\n",
    "print (norm_data_mean)"
   ]
  },
  {
   "cell_type": "code",
   "execution_count": 9,
   "metadata": {},
   "outputs": [
    {
     "name": "stdout",
     "output_type": "stream",
     "text": [
      "AT     7.441593\n",
      "V     12.747985\n",
      "AP     5.898733\n",
      "RH    14.625541\n",
      "dtype: float64\n"
     ]
    }
   ],
   "source": [
    "norm_data_std = X_train.std()\n",
    "print (norm_data_std)"
   ]
  },
  {
   "cell_type": "code",
   "execution_count": 10,
   "metadata": {},
   "outputs": [
    {
     "data": {
      "text/html": [
       "<div>\n",
       "<style scoped>\n",
       "    .dataframe tbody tr th:only-of-type {\n",
       "        vertical-align: middle;\n",
       "    }\n",
       "\n",
       "    .dataframe tbody tr th {\n",
       "        vertical-align: top;\n",
       "    }\n",
       "\n",
       "    .dataframe thead th {\n",
       "        text-align: right;\n",
       "    }\n",
       "</style>\n",
       "<table border=\"1\" class=\"dataframe\">\n",
       "  <thead>\n",
       "    <tr style=\"text-align: right;\">\n",
       "      <th></th>\n",
       "      <th>AT</th>\n",
       "      <th>V</th>\n",
       "      <th>AP</th>\n",
       "      <th>RH</th>\n",
       "    </tr>\n",
       "  </thead>\n",
       "  <tbody>\n",
       "    <tr>\n",
       "      <th>9103</th>\n",
       "      <td>0.441025</td>\n",
       "      <td>0.671278</td>\n",
       "      <td>1.086878</td>\n",
       "      <td>-0.558679</td>\n",
       "    </tr>\n",
       "    <tr>\n",
       "      <th>6281</th>\n",
       "      <td>1.075342</td>\n",
       "      <td>1.564031</td>\n",
       "      <td>-2.551444</td>\n",
       "      <td>-0.093706</td>\n",
       "    </tr>\n",
       "    <tr>\n",
       "      <th>6201</th>\n",
       "      <td>1.380405</td>\n",
       "      <td>1.701317</td>\n",
       "      <td>-0.944208</td>\n",
       "      <td>0.162712</td>\n",
       "    </tr>\n",
       "    <tr>\n",
       "      <th>2646</th>\n",
       "      <td>-1.362478</td>\n",
       "      <td>-1.144037</td>\n",
       "      <td>-0.011739</td>\n",
       "      <td>1.089238</td>\n",
       "    </tr>\n",
       "    <tr>\n",
       "      <th>3568</th>\n",
       "      <td>1.510763</td>\n",
       "      <td>1.463616</td>\n",
       "      <td>-0.733979</td>\n",
       "      <td>0.112112</td>\n",
       "    </tr>\n",
       "  </tbody>\n",
       "</table>\n",
       "</div>"
      ],
      "text/plain": [
       "            AT         V        AP        RH\n",
       "9103  0.441025  0.671278  1.086878 -0.558679\n",
       "6281  1.075342  1.564031 -2.551444 -0.093706\n",
       "6201  1.380405  1.701317 -0.944208  0.162712\n",
       "2646 -1.362478 -1.144037 -0.011739  1.089238\n",
       "3568  1.510763  1.463616 -0.733979  0.112112"
      ]
     },
     "execution_count": 10,
     "metadata": {},
     "output_type": "execute_result"
    }
   ],
   "source": [
    "from scipy.stats import zscore\n",
    "X_train_norm = X_train.apply(zscore)\n",
    "X_train_norm.head()"
   ]
  },
  {
   "cell_type": "markdown",
   "metadata": {},
   "source": [
    "<h1>7. 使用不同的参数在训练集上训练出模型(使用训练集交叉验证是可选的)</h1>\n",
    "    * 不考虑正则化"
   ]
  },
  {
   "cell_type": "code",
   "execution_count": 11,
   "metadata": {},
   "outputs": [
    {
     "data": {
      "text/plain": [
       "LinearRegression(copy_X=True, fit_intercept=True, n_jobs=1, normalize=False)"
      ]
     },
     "execution_count": 11,
     "metadata": {},
     "output_type": "execute_result"
    }
   ],
   "source": [
    "#训练模型，不考虑正则化\n",
    "from sklearn.linear_model import LinearRegression\n",
    "linreg = LinearRegression()\n",
    "linreg.fit(X_train_norm, y_train)"
   ]
  },
  {
   "cell_type": "code",
   "execution_count": 12,
   "metadata": {},
   "outputs": [
    {
     "name": "stdout",
     "output_type": "stream",
     "text": [
      "[454.21842252]\n",
      "[[-14.68689837  -2.96103407   0.40905751  -2.31169185]]\n"
     ]
    }
   ],
   "source": [
    "print (linreg.intercept_)\n",
    "print (linreg.coef_)"
   ]
  },
  {
   "cell_type": "markdown",
   "metadata": {},
   "source": [
    "<h1>8. 观察训练集的MSE和RMSE</h1>\n",
    "    *  不考虑正则化"
   ]
  },
  {
   "cell_type": "code",
   "execution_count": 13,
   "metadata": {},
   "outputs": [
    {
     "name": "stdout",
     "output_type": "stream",
     "text": [
      "Train MSE: 20.99974553734626\n",
      "Train RMSE: 4.582547930720011\n"
     ]
    }
   ],
   "source": [
    "y_train_pred = linreg.predict(X_train_norm)\n",
    "from sklearn import metrics\n",
    "# 用scikit-learn计算MSE\n",
    "print (\"Train MSE:\",metrics.mean_squared_error(y_train, y_train_pred))\n",
    "# 用scikit-learn计算RMSE\n",
    "print (\"Train RMSE:\",np.sqrt(metrics.mean_squared_error(y_train, y_train_pred)))"
   ]
  },
  {
   "cell_type": "markdown",
   "metadata": {},
   "source": [
    "<h1>9. 验证集数据的标准化</h1>\n",
    "    * 只需要做一次即可"
   ]
  },
  {
   "cell_type": "code",
   "execution_count": 14,
   "metadata": {},
   "outputs": [
    {
     "data": {
      "text/html": [
       "<div>\n",
       "<style scoped>\n",
       "    .dataframe tbody tr th:only-of-type {\n",
       "        vertical-align: middle;\n",
       "    }\n",
       "\n",
       "    .dataframe tbody tr th {\n",
       "        vertical-align: top;\n",
       "    }\n",
       "\n",
       "    .dataframe thead th {\n",
       "        text-align: right;\n",
       "    }\n",
       "</style>\n",
       "<table border=\"1\" class=\"dataframe\">\n",
       "  <thead>\n",
       "    <tr style=\"text-align: right;\">\n",
       "      <th></th>\n",
       "      <th>AT</th>\n",
       "      <th>V</th>\n",
       "      <th>AP</th>\n",
       "      <th>RH</th>\n",
       "    </tr>\n",
       "  </thead>\n",
       "  <tbody>\n",
       "    <tr>\n",
       "      <th>5014</th>\n",
       "      <td>-0.256437</td>\n",
       "      <td>-2.871289</td>\n",
       "      <td>-0.759357</td>\n",
       "      <td>0.360984</td>\n",
       "    </tr>\n",
       "    <tr>\n",
       "      <th>6947</th>\n",
       "      <td>1.329245</td>\n",
       "      <td>-1.945653</td>\n",
       "      <td>-0.293155</td>\n",
       "      <td>-1.403737</td>\n",
       "    </tr>\n",
       "    <tr>\n",
       "      <th>9230</th>\n",
       "      <td>-1.162157</td>\n",
       "      <td>-3.400000</td>\n",
       "      <td>1.437725</td>\n",
       "      <td>0.493629</td>\n",
       "    </tr>\n",
       "    <tr>\n",
       "      <th>4290</th>\n",
       "      <td>1.391059</td>\n",
       "      <td>-1.909569</td>\n",
       "      <td>0.752833</td>\n",
       "      <td>-1.342201</td>\n",
       "    </tr>\n",
       "    <tr>\n",
       "      <th>6477</th>\n",
       "      <td>0.023073</td>\n",
       "      <td>-2.708126</td>\n",
       "      <td>-0.155837</td>\n",
       "      <td>1.283343</td>\n",
       "    </tr>\n",
       "  </tbody>\n",
       "</table>\n",
       "</div>"
      ],
      "text/plain": [
       "            AT         V        AP        RH\n",
       "5014 -0.256437 -2.871289 -0.759357  0.360984\n",
       "6947  1.329245 -1.945653 -0.293155 -1.403737\n",
       "9230 -1.162157 -3.400000  1.437725  0.493629\n",
       "4290  1.391059 -1.909569  0.752833 -1.342201\n",
       "6477  0.023073 -2.708126 -0.155837  1.283343"
      ]
     },
     "execution_count": 14,
     "metadata": {},
     "output_type": "execute_result"
    }
   ],
   "source": [
    "#验证模型\n",
    "#测试集基于训练集的均值和方差进行标准化\n",
    "X_test_norm = X_test.loc[:,['AT','V','AP','RH']]\n",
    "X_test_norm['AT'] = (X_test['AT'] - 19.708303)/7.441593\n",
    "X_test_norm['V'] = (X_test['AT'] - 54.403151)/12.747985\n",
    "X_test_norm['AP'] = (X_test['AP'] - 1013.189242)/5.898733\n",
    "X_test_norm['RH'] = (X_test['RH'] - 73.220410)/14.625541\n",
    "X_test_norm.head()"
   ]
  },
  {
   "cell_type": "markdown",
   "metadata": {},
   "source": [
    "<h1>10. 使用训练出的模型在验证集上做预测，并观察验证集的MSE和RMSE</h1>\n",
    "    *  不考虑正则化"
   ]
  },
  {
   "cell_type": "code",
   "execution_count": 15,
   "metadata": {},
   "outputs": [
    {
     "name": "stdout",
     "output_type": "stream",
     "text": [
      "Train MSE: 86.35903350105353\n",
      "Train RMSE: 9.292956122841296\n"
     ]
    }
   ],
   "source": [
    "#模型测试集验证，确认最终表现\n",
    "y_test_pred = linreg.predict(X_test_norm)\n",
    "\n",
    "# 用scikit-learn计算MSE\n",
    "print (\"Train MSE:\",metrics.mean_squared_error(y_test, y_test_pred))\n",
    "# 用scikit-learn计算RMSE\n",
    "print (\"Train RMSE:\",np.sqrt(metrics.mean_squared_error(y_test, y_test_pred)))"
   ]
  },
  {
   "cell_type": "markdown",
   "metadata": {},
   "source": [
    "<h1>11. 画图观察(可选)</h1>"
   ]
  },
  {
   "cell_type": "code",
   "execution_count": 16,
   "metadata": {},
   "outputs": [
    {
     "data": {
      "image/png": "[encoded data removed]",
      "text/plain": [
       "<Figure size 432x288 with 1 Axes>"
      ]
     },
     "metadata": {},
     "output_type": "display_data"
    }
   ],
   "source": [
    "#画图观察\n",
    "fig, ax = plt.subplots()\n",
    "ax.scatter(y_test, y_test_pred)\n",
    "ax.plot([y_test.min(), y_test.max()], [y_test.min(), y_test.max()], 'k--', lw=4)\n",
    "ax.set_xlabel('Measured')\n",
    "ax.set_ylabel('Predicted')\n",
    "plt.show()"
   ]
  },
  {
   "cell_type": "markdown",
   "metadata": {},
   "source": [
    "<h1>12. 重复步骤7-11，选择验证集上MSE或RMSE最小的模型作为模型输出</h1>\n",
    "<h1>7. 使用不同的参数在训练集上训练出模型(使用训练集交叉验证是可选的)</h1>\n",
    "    * 考虑L2正则化"
   ]
  },
  {
   "cell_type": "code",
   "execution_count": 17,
   "metadata": {},
   "outputs": [
    {
     "data": {
      "text/plain": [
       "Ridge(alpha=0.1, copy_X=True, fit_intercept=True, max_iter=None,\n",
       "   normalize=False, random_state=None, solver='auto', tol=0.001)"
      ]
     },
     "execution_count": 17,
     "metadata": {},
     "output_type": "execute_result"
    }
   ],
   "source": [
    "#加入L2正则化\n",
    "from sklearn.linear_model import Ridge\n",
    "ridge = Ridge(alpha = 0.1)\n",
    "ridge.fit(X_train_norm, y_train)"
   ]
  },
  {
   "cell_type": "code",
   "execution_count": 18,
   "metadata": {},
   "outputs": [
    {
     "name": "stdout",
     "output_type": "stream",
     "text": [
      "[454.21842252]\n",
      "[[-14.6857877   -2.96170729   0.40929435  -2.31128706]]\n"
     ]
    }
   ],
   "source": [
    "print (ridge.intercept_)\n",
    "print (ridge.coef_)"
   ]
  },
  {
   "cell_type": "markdown",
   "metadata": {},
   "source": [
    "<h1>8. 观察训练集的MSE和RMSE</h1>\n",
    "    *  考虑L2正则化"
   ]
  },
  {
   "cell_type": "code",
   "execution_count": 19,
   "metadata": {},
   "outputs": [
    {
     "name": "stdout",
     "output_type": "stream",
     "text": [
      "Train MSE: 20.999745748547557\n",
      "Train RMSE: 4.582547953764102\n"
     ]
    }
   ],
   "source": [
    "y_train_pred_ridge = ridge.predict(X_train_norm)\n",
    "from sklearn import metrics\n",
    "# 用scikit-learn计算MSE\n",
    "print (\"Train MSE:\",metrics.mean_squared_error(y_train, y_train_pred_ridge))\n",
    "# 用scikit-learn计算RMSE\n",
    "print (\"Train RMSE:\",np.sqrt(metrics.mean_squared_error(y_train, y_train_pred_ridge)))"
   ]
  },
  {
   "cell_type": "markdown",
   "metadata": {},
   "source": [
    "<h1>9. 验证集数据的标准化(之前做过，此处忽略)</h1>\n",
    "<h1>10. 使用训练出的模型在验证集上做预测，并观察验证集的MSE和RMSE</h1>\n",
    "    *  考虑L2正则化"
   ]
  },
  {
   "cell_type": "code",
   "execution_count": 20,
   "metadata": {},
   "outputs": [
    {
     "name": "stdout",
     "output_type": "stream",
     "text": [
      "Train MSE: 86.3891373545495\n",
      "Train RMSE: 9.294575695240182\n"
     ]
    }
   ],
   "source": [
    "#模型测试集L2正则化验证，比较最终表现\n",
    "y_test_pred_ridge = ridge.predict(X_test_norm)\n",
    "\n",
    "# 用scikit-learn计算MSE\n",
    "print (\"Train MSE:\",metrics.mean_squared_error(y_test, y_test_pred_ridge))\n",
    "# 用scikit-learn计算RMSE\n",
    "print (\"Train RMSE:\",np.sqrt(metrics.mean_squared_error(y_test, y_test_pred_ridge)))"
   ]
  },
  {
   "cell_type": "markdown",
   "metadata": {},
   "source": [
    "<h1>11. 画图观察(可选)</h1>"
   ]
  },
  {
   "cell_type": "code",
   "execution_count": 21,
   "metadata": {},
   "outputs": [
    {
     "data": {
      "image/png": "[encoded data removed]",
      "text/plain": [
       "<Figure size 432x288 with 1 Axes>"
      ]
     },
     "metadata": {},
     "output_type": "display_data"
    }
   ],
   "source": [
    "#画图观察\n",
    "fig, ax = plt.subplots()\n",
    "ax.scatter(y_test, y_test_pred_ridge)\n",
    "ax.plot([y_test.min(), y_test.max()], [y_test.min(), y_test.max()], 'k--', lw=4)\n",
    "ax.set_xlabel('Measured')\n",
    "ax.set_ylabel('Predicted')\n",
    "plt.show()"
   ]
  },
  {
   "cell_type": "markdown",
   "metadata": {},
   "source": [
    "<h1>12. 重复步骤7-11，选择验证集上MSE或RMSE最小的模型作为模型输出</h1>"
   ]
  },
  {
   "cell_type": "markdown",
   "metadata": {},
   "source": [
    "<h1>13. 保存模型，加载模型做预测,第一种方法</h1>\n",
    "    * 使用python pickle API 保存\n",
    "    * 使用python 加载pickle文件预测"
   ]
  },
  {
   "cell_type": "code",
   "execution_count": 22,
   "metadata": {},
   "outputs": [],
   "source": [
    "#保存模型方法1\n",
    "\n",
    "# 保存成python支持的文件格式pickle, 在当前目录下可以看到regression.pickle\n",
    "import pickle\n",
    "with open('regression.pickle', 'wb') as fw:\n",
    "    pickle.dump(ridge, fw)"
   ]
  },
  {
   "cell_type": "code",
   "execution_count": 23,
   "metadata": {},
   "outputs": [
    {
     "name": "stdout",
     "output_type": "stream",
     "text": [
      "[[444.72624337]\n",
      " [442.43179818]]\n"
     ]
    }
   ],
   "source": [
    "#加载并预测\n",
    "\n",
    "# 加载regression.pickle\n",
    "with open('regression.pickle', 'rb') as fr:\n",
    "    new_ridge = pickle.load(fr)\n",
    "    test_data = np.array([\n",
    "        [(1- 19.708303)/7.441593, (1- 54.403151)/12.747985, (1- 1013.189242)/5.898733,(1- 73.220410)/14.625541],\n",
    "        [(2- 19.708303)/7.441593, (2- 54.403151)/12.747985, (2- 1013.189242)/5.898733,(2- 73.220410)/14.625541]\n",
    "    ])\n",
    "    result = new_ridge.predict(test_data)\n",
    "    print (result)\n"
   ]
  },
  {
   "cell_type": "markdown",
   "metadata": {},
   "source": [
    "<h1>13. 保存模型，加载模型做预测,第二种方法</h1>\n",
    "    * 使用sklearn joblib API 保存\n",
    "    * 使用sklearn joblib API 加载sklearn模型预测"
   ]
  },
  {
   "cell_type": "code",
   "execution_count": 24,
   "metadata": {},
   "outputs": [
    {
     "data": {
      "text/plain": [
       "['regression.pkl']"
      ]
     },
     "execution_count": 24,
     "metadata": {},
     "output_type": "execute_result"
    }
   ],
   "source": [
    "#保存模型方法2\n",
    "\n",
    "#保存成sklearn自带的文件格式\n",
    "from sklearn.externals import joblib\n",
    "joblib.dump(ridge, 'regression.pkl')"
   ]
  },
  {
   "cell_type": "code",
   "execution_count": 25,
   "metadata": {},
   "outputs": [
    {
     "name": "stdout",
     "output_type": "stream",
     "text": [
      "[[444.72624337]\n",
      " [442.43179818]]\n"
     ]
    }
   ],
   "source": [
    "new_ridge2 = joblib.load('regression.pkl')\n",
    "result2 = new_ridge2.predict(test_data)\n",
    "print (result2)"
   ]
  },
  {
   "cell_type": "markdown",
   "metadata": {},
   "source": [
    "<h1>13. 保存模型，加载模型做预测,第三种方法</h1>\n",
    "    * 保存为PMML文件\n",
    "    * 使用PMML Java API加载模型预测    "
   ]
  },
  {
   "cell_type": "code",
   "execution_count": 26,
   "metadata": {},
   "outputs": [
    {
     "data": {
      "text/plain": [
       "PMMLPipeline(steps=[('regresser', Ridge(alpha=0.1, copy_X=True, fit_intercept=True, max_iter=None,\n",
       "   normalize=False, random_state=None, solver='auto', tol=0.001))])"
      ]
     },
     "execution_count": 26,
     "metadata": {},
     "output_type": "execute_result"
    }
   ],
   "source": [
    "#保存模型方法3,跨平台用，可以用于线上Java调用\n",
    "from sklearn2pmml.pipeline import PMMLPipeline\n",
    "from sklearn2pmml import sklearn2pmml\n",
    "regression_pipeline = PMMLPipeline([(\"regresser\", Ridge(alpha = 0.1))])\n",
    "regression_pipeline.fit(X_train_norm, y_train)"
   ]
  },
  {
   "cell_type": "code",
   "execution_count": 27,
   "metadata": {},
   "outputs": [
    {
     "name": "stdout",
     "output_type": "stream",
     "text": [
      "[[444.72624337]\n",
      " [442.43179818]]\n"
     ]
    }
   ],
   "source": [
    "result3 = regression_pipeline.predict(test_data)\n",
    "print (result3)"
   ]
  },
  {
   "cell_type": "markdown",
   "metadata": {},
   "source": [
    "使用PMML Java API加载模型预测的实例参见：\n",
    "\n",
    "[用PMML实现机器学习模型的跨平台上线](https://www.cnblogs.com/pinard/p/9220199.html)\n",
    "\n",
    "[PMML跨平台上线相关实例代码](https://github.com/ljpzzz/machinelearning/blob/master/model-in-product/sklearn-jpmml)"
   ]
  },
  {
   "cell_type": "code",
   "execution_count": null,
   "metadata": {},
   "outputs": [],
   "source": []
  }
 ],
 "metadata": {
  "kernelspec": {
   "display_name": "Python 3",
   "language": "python",
   "name": "python3"
  },
  "language_info": {
   "codemirror_mode": {
    "name": "ipython",
    "version": 3
   },
   "file_extension": ".py",
   "mimetype": "text/x-python",
   "name": "python",
   "nbconvert_exporter": "python",
   "pygments_lexer": "ipython3",
   "version": "3.6.5"
  }
 },
 "nbformat": 4,
 "nbformat_minor": 2
}
